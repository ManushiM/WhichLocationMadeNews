{
 "cells": [
  {
   "cell_type": "markdown",
   "metadata": {},
   "source": [
    "# Which place made news the most in the first week of January 2017?"
   ]
  },
  {
   "cell_type": "markdown",
   "metadata": {},
   "source": [
    "The purpose of this project is to identify which Town/City/Country was mentioned most number of times in The New York Times during January 1st through Jauary 7th in 2017.\n",
    "\n",
    "I use the NYTimes Article Search API to extract details about article, which is then used to extract the entire articles."
   ]
  },
  {
   "cell_type": "code",
   "execution_count": 1,
   "metadata": {
    "collapsed": true
   },
   "outputs": [],
   "source": [
    "#Importing libraries\n",
    "from nytimesarticle import articleAPI\n",
    "import time"
   ]
  },
  {
   "cell_type": "code",
   "execution_count": 2,
   "metadata": {
    "collapsed": true
   },
   "outputs": [],
   "source": [
    "api = articleAPI(nytimes_api)"
   ]
  },
  {
   "cell_type": "markdown",
   "metadata": {},
   "source": [
    "### Each API call returns one page of the results. Each page contains details of 10 articles.\n",
    "\n",
    "### Due to the NYTimes API call limits, we will restrict our results to 50 articles for this project."
   ]
  },
  {
   "cell_type": "code",
   "execution_count": 3,
   "metadata": {
    "collapsed": false
   },
   "outputs": [],
   "source": [
    "article_details = []\n",
    "def articlesForAMonth_50(start,end):\n",
    "    '''Function that makes API calls to extract details of articles'''\n",
    "    #5 pages = 50 articles\n",
    "    for i in range(0,5):\n",
    "        article_details.append(api.search(fq = {'source':'The New York Times'}, begin_date = start, end_date = end, page=i))\n",
    "        #To avoid per second api call limit\n",
    "        time.sleep(2)\n",
    "    return article_details"
   ]
  },
  {
   "cell_type": "code",
   "execution_count": 4,
   "metadata": {
    "collapsed": false
   },
   "outputs": [
    {
     "data": {
      "text/plain": [
       "5"
      ]
     },
     "execution_count": 4,
     "metadata": {},
     "output_type": "execute_result"
    }
   ],
   "source": [
    "#Extracting articles for January 2017 (date in YYYYMMDD format)\n",
    "january17_fifty = articlesForAMonth_50(20170101, 20170107)\n",
    "len(january17_fifty)"
   ]
  },
  {
   "cell_type": "markdown",
   "metadata": {},
   "source": [
    "### Thus we have verifies that details worth 5 pages of articles, or 50 articles have been extracted successfully.\n",
    "\n",
    "### The following function 'parse_articles' takes in the list of article details and parses it to generate a dictionary of details such as\n",
    "* Article ID\n",
    "* Article Headline\n",
    "* Article Type\n",
    "* Publication Date\n",
    "* Web URL\n",
    "* Locations mentioned (using Keywords)\n",
    "* Subject of the article"
   ]
  },
  {
   "cell_type": "code",
   "execution_count": 5,
   "metadata": {
    "collapsed": true
   },
   "outputs": [],
   "source": [
    "def parse_articles(articles_list):\n",
    "    '''\n",
    "    This function takes in a response to the NYT api and parses\n",
    "    the articles into a list of dictionaries\n",
    "    '''\n",
    "    news = []\n",
    "    \n",
    "    for page_num in range(0,5):\n",
    "        page = articles_list[page_num]\n",
    "        for i in page['response']['docs']:\n",
    "            dic = {}\n",
    "            dic['id'] = i['_id']\n",
    "            dic['headline'] = i['headline']['main'].encode(\"utf8\")\n",
    "            dic['date'] = i['pub_date'][0:10] # cutting time of day.\n",
    "            dic['type'] = i['type_of_material']\n",
    "            dic['url'] = i['web_url']\n",
    "            # locations\n",
    "            locations = []\n",
    "            for x in range(0,len(i['keywords'])):\n",
    "                if 'glocations' in i['keywords'][x]['name']:\n",
    "                    locations.append(i['keywords'][x]['value'])\n",
    "            dic['locations'] = locations\n",
    "            # subject\n",
    "            subjects = []\n",
    "            for x in range(0,len(i['keywords'])):\n",
    "                if 'subject' in i['keywords'][x]['name']:\n",
    "                    subjects.append(i['keywords'][x]['value'])\n",
    "            dic['subjects'] = subjects   \n",
    "            news.append(dic)\n",
    "    return(news)"
   ]
  },
  {
   "cell_type": "code",
   "execution_count": 6,
   "metadata": {
    "collapsed": false
   },
   "outputs": [
    {
     "data": {
      "text/plain": [
       "50"
      ]
     },
     "execution_count": 6,
     "metadata": {},
     "output_type": "execute_result"
    }
   ],
   "source": [
    "jan50News = parse_articles(january17_fifty)\n",
    "len(jan50News)"
   ]
  },
  {
   "cell_type": "markdown",
   "metadata": {
    "collapsed": true
   },
   "source": [
    "Thus we have verified that there have been details for all 50 articles parsed."
   ]
  },
  {
   "cell_type": "markdown",
   "metadata": {},
   "source": [
    "### Extracting locations from extracted articles in a list"
   ]
  },
  {
   "cell_type": "code",
   "execution_count": 7,
   "metadata": {
    "collapsed": false
   },
   "outputs": [
    {
     "data": {
      "text/plain": [
       "['Russia',\n",
       " 'Russia',\n",
       " 'Afghanistan',\n",
       " 'Russia',\n",
       " 'Richmond (Va)',\n",
       " 'Nashville (Tenn)',\n",
       " 'Tennessee',\n",
       " 'Washington (State)',\n",
       " 'United States',\n",
       " 'Russia',\n",
       " 'Walden Pond (Concord, Mass)',\n",
       " 'New York City',\n",
       " 'Texas',\n",
       " 'North Carolina',\n",
       " 'Fort Lauderdale (Fla)',\n",
       " 'Puerto Rico',\n",
       " 'Anchorage (Alaska)',\n",
       " 'New York State',\n",
       " 'Missouri',\n",
       " 'Ferguson (Mo)',\n",
       " 'Portugal',\n",
       " 'Alabama',\n",
       " 'Russia',\n",
       " 'Azaz (Syria)',\n",
       " 'Syria',\n",
       " 'Kilis (Turkey)',\n",
       " 'Ivory Coast',\n",
       " 'Russia',\n",
       " 'California',\n",
       " 'China',\n",
       " 'Clinton Hill (Brooklyn, NY)',\n",
       " 'China',\n",
       " 'Brazil',\n",
       " 'Cuiaba (Brazil)',\n",
       " 'China',\n",
       " 'Fort Lauderdale (Fla)']"
      ]
     },
     "execution_count": 7,
     "metadata": {},
     "output_type": "execute_result"
    }
   ],
   "source": [
    "temp = [jan50News[i]['locations'] for i in range(0,50)]\n",
    "places = reduce(lambda x,y : x+y, temp)\n",
    "places = [element.encode('ascii', 'ignore') for element in places]\n",
    "places"
   ]
  },
  {
   "cell_type": "markdown",
   "metadata": {},
   "source": [
    "### Extracting article contents"
   ]
  },
  {
   "cell_type": "code",
   "execution_count": 8,
   "metadata": {
    "collapsed": true
   },
   "outputs": [],
   "source": [
    "#Importing necessary packages\n",
    "import requests\n",
    "from bs4 import BeautifulSoup"
   ]
  },
  {
   "cell_type": "code",
   "execution_count": 9,
   "metadata": {
    "collapsed": false
   },
   "outputs": [],
   "source": [
    "#Extracting the text in a list 'all_text'\n",
    "all_text = []\n",
    "for i in range(0,50):\n",
    "    url = jan50News[i]['url'].encode('ascii', 'ignore')\n",
    "    webpage = requests.get(url)\n",
    "    soup = BeautifulSoup(webpage.content, 'html.parser')\n",
    "    for paragraph in soup.find_all('p', class_='story-body-text'):\n",
    "        temp = (paragraph.text).encode('ascii', 'ignore')\n",
    "        all_text.append(temp)"
   ]
  },
  {
   "cell_type": "code",
   "execution_count": 10,
   "metadata": {
    "collapsed": false
   },
   "outputs": [
    {
     "name": "stdout",
     "output_type": "stream",
     "text": [
      "Number of paragraphs found in the extract: 1148\n"
     ]
    }
   ],
   "source": [
    "#Getting total number of paragraphs\n",
    "print 'Number of paragraphs found in the extract: ' +str(len(all_text))"
   ]
  },
  {
   "cell_type": "code",
   "execution_count": 11,
   "metadata": {
    "collapsed": true
   },
   "outputs": [],
   "source": [
    "#Saving file for future use\n",
    "myFile = open('nyTimes_Jan50articles.txt', 'w')\n",
    "for item in all_text:\n",
    "  myFile.write(\"%s\\n\" % item)"
   ]
  },
  {
   "cell_type": "code",
   "execution_count": 12,
   "metadata": {
    "collapsed": true
   },
   "outputs": [],
   "source": [
    "#Converting the list to a string for further use\n",
    "textString = ''.join(all_text)"
   ]
  },
  {
   "cell_type": "code",
   "execution_count": 13,
   "metadata": {
    "collapsed": true
   },
   "outputs": [],
   "source": [
    "#with open('nyTimes_Jan50articles.txt', 'r') as myfile:\n",
    "#    textString = myfile.read().replace('\\n', '') "
   ]
  },
  {
   "cell_type": "markdown",
   "metadata": {
    "collapsed": true
   },
   "source": [
    "### On closely observing our list of 'places' we notice a few substrings present that could affect the accuracy of results.\n",
    "\n",
    "#### Example1:\n",
    "\n",
    "'Richmond (Va)' and 'Nashville (Tenn)', though detected within the articles may not reoccur in the same format in those respective or other articles. The abbreviated states must be removed for increasing the chances of finding those cities within the collected corpus.\n",
    "\n",
    "#### Example2:\n",
    "'Walden Pond (Concord, Mass)' and 'Clinton Hill (Brooklyn, NY)', though detected precisely within the corpus, may not be ideal to plot on a map set to a global scale. It may also be easier to find more instances of 'Brooklyn' than 'Clinton Hill' within the corpus.\n",
    "Hence, the granularity needs to be removed for sake of visualizing the results.\n",
    "\n",
    "#### Example3:\n",
    "This list also contains duplicate results (eg. Russia). The duplication needs to be eliminated too.\n",
    "\n",
    "\n",
    "### Since our list of 'places' contains only 36 values, I will edit it manually."
   ]
  },
  {
   "cell_type": "code",
   "execution_count": 14,
   "metadata": {
    "collapsed": true
   },
   "outputs": [],
   "source": [
    "places_edit = ['Russia', 'Afghanistan', 'Richmond', 'Nashville', 'Tennessee', 'Washington', 'United States', 'Concord',\n",
    "               'New York City', 'Texas', 'North Carolina', 'Fort Lauderdale', 'Puerto Rico', 'Anchorage', 'New York State',\n",
    "                'Missouri', 'Ferguson', 'Portugal', 'Alabama', 'Azaz', 'Syria', 'Kilis', 'Ivory Coast', 'California', \n",
    "                'China', 'Brooklyn', 'Brazil', 'Cuiaba']"
   ]
  },
  {
   "cell_type": "markdown",
   "metadata": {},
   "source": [
    "### We now use the variable 'textString' that contains all the articles to get a corresponding frequency count for each city in the list 'places_edit'"
   ]
  },
  {
   "cell_type": "code",
   "execution_count": 15,
   "metadata": {
    "collapsed": false
   },
   "outputs": [
    {
     "data": {
      "text/plain": [
       "[108,\n",
       " 8,\n",
       " 10,\n",
       " 3,\n",
       " 2,\n",
       " 25,\n",
       " 66,\n",
       " 0,\n",
       " 8,\n",
       " 15,\n",
       " 3,\n",
       " 8,\n",
       " 6,\n",
       " 5,\n",
       " 2,\n",
       " 3,\n",
       " 5,\n",
       " 8,\n",
       " 8,\n",
       " 5,\n",
       " 14,\n",
       " 1,\n",
       " 5,\n",
       " 16,\n",
       " 31,\n",
       " 10,\n",
       " 26,\n",
       " 3]"
      ]
     },
     "execution_count": 15,
     "metadata": {},
     "output_type": "execute_result"
    }
   ],
   "source": [
    "#Generating list of frequencies\n",
    "places_count = [textString.count(place) for place in places_edit]\n",
    "places_count"
   ]
  },
  {
   "cell_type": "markdown",
   "metadata": {},
   "source": [
    "### In order to plot the locations on a map, we will need to derive their latitude-longitude."
   ]
  },
  {
   "cell_type": "code",
   "execution_count": 16,
   "metadata": {
    "collapsed": false
   },
   "outputs": [],
   "source": [
    "#Import library for geocoding locations\n",
    "import geocoder"
   ]
  },
  {
   "cell_type": "code",
   "execution_count": 17,
   "metadata": {
    "collapsed": false
   },
   "outputs": [
    {
     "data": {
      "text/plain": [
       "[[61.52401, 105.318756],\n",
       " [33.93911, 67.709953],\n",
       " [37.5407246, -77.4360481],\n",
       " [36.1626638, -86.7816016],\n",
       " [35.5174913, -86.5804473],\n",
       " [47.7510741, -120.7401386],\n",
       " [37.09024, -95.712891],\n",
       " [42.4603719, -71.3489484],\n",
       " [40.7127837, -74.0059413],\n",
       " [31.9685988, -99.9018131],\n",
       " [35.7595731, -79.01929969999999],\n",
       " [26.1224386, -80.13731740000001],\n",
       " [18.220833, -66.590149],\n",
       " [61.2180556, -149.9002778],\n",
       " [43.2994285, -74.21793260000001],\n",
       " [37.9642529, -91.8318334],\n",
       " [38.7442175, -90.3053915],\n",
       " [39.39987199999999, -8.224454],\n",
       " [32.3182314, -86.902298],\n",
       " [36.5868261, 37.0480843],\n",
       " [34.80207499999999, 38.996815],\n",
       " [36.716477, 37.114661],\n",
       " [7.539988999999999, -5.547079999999999],\n",
       " [36.778261, -119.4179324],\n",
       " [35.86166, 104.195397],\n",
       " [40.6781784, -73.9441579],\n",
       " [-14.235004, -51.92528],\n",
       " [-15.6014109, -56.0978917]]"
      ]
     },
     "execution_count": 17,
     "metadata": {},
     "output_type": "execute_result"
    }
   ],
   "source": [
    "#Generating list of [latitude,longitude] for each place\n",
    "lat_lon = [geocoder.google(place).latlng for place in places_edit]\n",
    "lat_lon"
   ]
  },
  {
   "cell_type": "code",
   "execution_count": 18,
   "metadata": {
    "collapsed": false
   },
   "outputs": [],
   "source": [
    "#Separating them into 2 lists 'latitude' and 'longitude'\n",
    "latitude = [element[0] for element in lat_lon]\n",
    "longitude = [element[1] for element in lat_lon]"
   ]
  },
  {
   "cell_type": "markdown",
   "metadata": {},
   "source": [
    "### We will now combine all the necessary lists as a Pandas dataframe"
   ]
  },
  {
   "cell_type": "code",
   "execution_count": 19,
   "metadata": {
    "collapsed": false
   },
   "outputs": [
    {
     "data": {
      "text/html": [
       "<div>\n",
       "<table border=\"1\" class=\"dataframe\">\n",
       "  <thead>\n",
       "    <tr style=\"text-align: right;\">\n",
       "      <th></th>\n",
       "      <th>count</th>\n",
       "      <th>latitude</th>\n",
       "      <th>longitude</th>\n",
       "      <th>places</th>\n",
       "    </tr>\n",
       "  </thead>\n",
       "  <tbody>\n",
       "    <tr>\n",
       "      <th>0</th>\n",
       "      <td>108</td>\n",
       "      <td>61.524010</td>\n",
       "      <td>105.318756</td>\n",
       "      <td>Russia</td>\n",
       "    </tr>\n",
       "    <tr>\n",
       "      <th>1</th>\n",
       "      <td>8</td>\n",
       "      <td>33.939110</td>\n",
       "      <td>67.709953</td>\n",
       "      <td>Afghanistan</td>\n",
       "    </tr>\n",
       "    <tr>\n",
       "      <th>2</th>\n",
       "      <td>10</td>\n",
       "      <td>37.540725</td>\n",
       "      <td>-77.436048</td>\n",
       "      <td>Richmond</td>\n",
       "    </tr>\n",
       "    <tr>\n",
       "      <th>3</th>\n",
       "      <td>3</td>\n",
       "      <td>36.162664</td>\n",
       "      <td>-86.781602</td>\n",
       "      <td>Nashville</td>\n",
       "    </tr>\n",
       "    <tr>\n",
       "      <th>4</th>\n",
       "      <td>2</td>\n",
       "      <td>35.517491</td>\n",
       "      <td>-86.580447</td>\n",
       "      <td>Tennessee</td>\n",
       "    </tr>\n",
       "  </tbody>\n",
       "</table>\n",
       "</div>"
      ],
      "text/plain": [
       "   count   latitude   longitude       places\n",
       "0    108  61.524010  105.318756       Russia\n",
       "1      8  33.939110   67.709953  Afghanistan\n",
       "2     10  37.540725  -77.436048     Richmond\n",
       "3      3  36.162664  -86.781602    Nashville\n",
       "4      2  35.517491  -86.580447    Tennessee"
      ]
     },
     "execution_count": 19,
     "metadata": {},
     "output_type": "execute_result"
    }
   ],
   "source": [
    "import pandas as pd\n",
    "\n",
    "results = pd.DataFrame(\n",
    "    {'places': places_edit,\n",
    "     'count': places_count,\n",
    "     'latitude': latitude,\n",
    "     'longitude': longitude\n",
    "    })\n",
    "results.head()"
   ]
  },
  {
   "cell_type": "markdown",
   "metadata": {},
   "source": [
    "### We will now use the Python package 'folium' to generate a web map for our data"
   ]
  },
  {
   "cell_type": "code",
   "execution_count": 20,
   "metadata": {
    "collapsed": false
   },
   "outputs": [],
   "source": [
    "#Importing library for plotting webmaps\n",
    "import folium"
   ]
  },
  {
   "cell_type": "code",
   "execution_count": 21,
   "metadata": {
    "collapsed": false
   },
   "outputs": [
    {
     "data": {
      "text/html": [
       "<div style=\"width:100%;\"><div style=\"position:relative;width:100%;height:0;padding-bottom:60%;\"><iframe src=\"data:text/html;charset=utf-8;base64,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\" style=\"position:absolute;width:100%;height:100%;left:0;top:0;border:none !important;\" allowfullscreen webkitallowfullscreen mozallowfullscreen></iframe></div></div>"
      ],
      "text/plain": [
       "<folium.folium.Map at 0x6355400>"
      ]
     },
     "execution_count": 21,
     "metadata": {},
     "output_type": "execute_result"
    }
   ],
   "source": [
    "mymap = folium.Map(location=[33.642063, -13.535156], zoom_start=2)\n",
    "results.apply(lambda row:folium.CircleMarker(location=[row[\"latitude\"], row[\"longitude\"]], radius=6, popup=(str(row['places'])+' appeared '+str(row['count'])+' times in NYTimes articles'),\n",
    "                                            fill_color = '#ff0000', fill_opacity = 0.5).add_to(mymap), axis=1)\n",
    "mymap.save('mymap.html')\n",
    "mymap"
   ]
  },
  {
   "cell_type": "code",
   "execution_count": null,
   "metadata": {
    "collapsed": true
   },
   "outputs": [],
   "source": []
  }
 ],
 "metadata": {
  "anaconda-cloud": {},
  "kernelspec": {
   "display_name": "Python [conda root]",
   "language": "python",
   "name": "conda-root-py"
  },
  "language_info": {
   "codemirror_mode": {
    "name": "ipython",
    "version": 2
   },
   "file_extension": ".py",
   "mimetype": "text/x-python",
   "name": "python",
   "nbconvert_exporter": "python",
   "pygments_lexer": "ipython2",
   "version": "2.7.12"
  }
 },
 "nbformat": 4,
 "nbformat_minor": 1
}
